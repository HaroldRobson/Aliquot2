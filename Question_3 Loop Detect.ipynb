{
 "cells": [
  {
   "cell_type": "code",
   "execution_count": 14,
   "metadata": {},
   "outputs": [
    {
     "name": "stdout",
     "output_type": "stream",
     "text": [
      "A loop is detected in the aliquot sequence: [220, 284]\n",
      "The sequence terminates without a loop: [100, 117, 65, 19, 1]\n",
      "A loop is detected in the aliquot sequence: [12496, 14288, 15472, 14536, 14264]\n",
      "A loop is detected in the aliquot sequence: [6]\n"
     ]
    }
   ],
   "source": [
    "#This is the function of sum_proper_divisors function, you can change it to your own function\n",
    "def sum_proper_divisors(n):\n",
    "    \"\"\"Return the sum of proper divisors of n.\"\"\"\n",
    "    if n < 2:\n",
    "        return 0  # Proper divisors for 1 and 0 lead to termination\n",
    "    total = 1  # Start with 1 because it's a divisor for all n > 1\n",
    "    for i in range(2, int(n ** 0.5) + 1):\n",
    "        if n % i == 0:\n",
    "            total += i\n",
    "            if i != n // i:\n",
    "                total += n // i\n",
    "    return total\n",
    "\n",
    "def detect_aliquot_sequence_behavior(start):\n",
    "    \"\"\"Return True if the aliquot sequence of start enters a loop, False if it terminates.\n",
    "    Also, returns the sequence and any detected loop or terminating sequence.\n",
    "    \"\"\"\n",
    "    visited = set()  # Keep track of numbers seen in the sequence\n",
    "    sequence = []  # To store the sequence of values\n",
    "\n",
    "    # while loop to check if the start_value enter the loop\n",
    "    current = start\n",
    "    while current != 0:\n",
    "        if current in visited:\n",
    "            # Loop detected\n",
    "            loop_start_index = sequence.index(current)\n",
    "            loop = sequence[loop_start_index:]\n",
    "            return \"Loop Detected\", loop #If we detect a loop, we return string \"Loop Detected\" and the sequence\n",
    "        visited.add(current)\n",
    "        sequence.append(current)\n",
    "        current = sum_proper_divisors(current)\n",
    "\n",
    "    # If we reach 0, it means the sequence terminates without a loop\n",
    "    return \"Terminates\", sequence\n",
    "\n",
    "# Example usage of number that enter the loop\n",
    "start_value = 220  # You can test with different starting values\n",
    "behavior, result = detect_aliquot_sequence_behavior(start_value)\n",
    "if behavior == \"Loop Detected\":\n",
    "    print(f\"A loop is detected in the aliquot sequence: {result}\")\n",
    "else:\n",
    "    print(f\"The sequence terminates without a loop: {result}\")\n",
    "\n",
    "# Example of number that not enter the loop\n",
    "start_value = 100  # You can test with different starting values\n",
    "behavior, result = detect_aliquot_sequence_behavior(start_value)\n",
    "if behavior == \"Loop Detected\":\n",
    "    print(f\"A loop is detected in the aliquot sequence: {result}\")\n",
    "else:\n",
    "    print(f\"The sequence terminates without a loop: {result}\")\n",
    "\n",
    "#Example of a number enter the \"Sociable Chain\" Loop\n",
    "start_value = 12496  # You can test with different starting values\n",
    "behavior, result = detect_aliquot_sequence_behavior(start_value)\n",
    "if behavior == \"Loop Detected\":\n",
    "    print(f\"A loop is detected in the aliquot sequence: {result}\")\n",
    "else:\n",
    "    print(f\"The sequence terminates without a loop: {result}\")\n",
    "\n",
    "#Example of the Perfect number\n",
    "start_value = 6  # You can test with different starting values\n",
    "behavior, result = detect_aliquot_sequence_behavior(start_value)\n",
    "if behavior == \"Loop Detected\":\n",
    "    print(f\"A loop is detected in the aliquot sequence: {result}\")\n",
    "else:\n",
    "    print(f\"The sequence terminates without a loop: {result}\")"
   ]
  },
  {
   "cell_type": "code",
   "execution_count": null,
   "metadata": {},
   "outputs": [],
   "source": []
  }
 ],
 "metadata": {
  "kernelspec": {
   "display_name": "base",
   "language": "python",
   "name": "python3"
  },
  "language_info": {
   "codemirror_mode": {
    "name": "ipython",
    "version": 3
   },
   "file_extension": ".py",
   "mimetype": "text/x-python",
   "name": "python",
   "nbconvert_exporter": "python",
   "pygments_lexer": "ipython3",
   "version": "3.12.4"
  }
 },
 "nbformat": 4,
 "nbformat_minor": 2
}
